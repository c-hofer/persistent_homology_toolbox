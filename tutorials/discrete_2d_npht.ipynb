{
 "cells": [
  {
   "cell_type": "markdown",
   "metadata": {},
   "source": [
    "**In this tutorial I want you to show how to use `calculate_discrete_NPHT_2d` and `distance_npht2D`.<br>**\n",
    "You can skip the next cell, it contains just helper stuff. "
   ]
  },
  {
   "cell_type": "code",
   "execution_count": 2,
   "metadata": {},
   "outputs": [],
   "source": [
    "import numpy as np\n",
    "import matplotlib.pyplot as plt\n",
    "\n",
    "from shared_code import check_pershombox_availability\n",
    "check_pershombox_availability()\n",
    "from pershombox import calculate_discrete_NPHT_2d, distance_npht2D\n",
    "\n",
    "def binary_E():\n",
    "    c = np.zeros((5, 7))\n",
    "    c[1:4, 1] = 1\n",
    "    c[1, 2:6] = 1\n",
    "    c[2, 3] = 1\n",
    "    c[1:4, 5] = 1\n",
    "    return c\n",
    "\n",
    "def binary_P():\n",
    "    c = np.zeros((5, 7))    \n",
    "    c[1, 1:6] = 1\n",
    "    c[3, 4:6] = 1\n",
    "    c[2:4, 3] = 1\n",
    "    c[2, 5] = 1\n",
    "    return c    \n",
    "\n",
    "def to_img_coordinates(arr):\n",
    "    ret = arr.T\n",
    "    return np.flipud(ret)\n",
    "\n",
    "def plot_binary_complex(ax, binary_complex):\n",
    "    ax.matshow(to_img_coordinates(binary_complex), cmap=plt.cm.binary)\n",
    "    ax.axis('off')"
   ]
  },
  {
   "cell_type": "markdown",
   "metadata": {},
   "source": [
    "At first let us construct a cubical complex of the letter 'E'. "
   ]
  },
  {
   "cell_type": "code",
   "execution_count": 3,
   "metadata": {},
   "outputs": [
    {
     "data": {
      "image/png": "[encoded data removed]",
      "text/plain": [
       "<Figure size 144x144 with 1 Axes>"
      ]
     },
     "metadata": {
      "needs_background": "light"
     },
     "output_type": "display_data"
    }
   ],
   "source": [
    "E = binary_E()\n",
    "plt.figure(figsize=(2, 2))\n",
    "ax = plt.gca()\n",
    "plot_binary_complex(ax, E)\n",
    "plt.show()"
   ]
  },
  {
   "cell_type": "markdown",
   "metadata": {},
   "source": [
    "Now we can invoke `calculate_discrete_NPHT_2d` on `E` with the desired number of directions `n`. \n",
    "`calculate_discrete_NPHT_2d` partitions the unit circle counter clockwise into `n` directions. \n",
    "Then `E` is filtrated along each direction (normalized with respect to the diameter of the bounding circle centered at the barycenter) and the persistence barcodes are returned. <br>\n",
    "Conclusively, if `npht_E` is the return value then <br>\n",
    "<p>\n",
    "<center>\n",
    "`npht_E[i][j]` = diagram in direction `i` of dimension `j`.\n",
    "</center>\n",
    "</p>"
   ]
  },
  {
   "cell_type": "code",
   "execution_count": 4,
   "metadata": {},
   "outputs": [
    {
     "data": {
      "text/plain": [
       "[[[(0.3532723671473885, 0.772494175297707)], []],\n",
       " [[(0.08077819184968146, 0.9192218081503185)], []],\n",
       " [[(0.22750582470229294, 0.6467276328526115),\n",
       "   (0.4371167287774523, 0.6467276328526115),\n",
       "   (0.22750582470229294, 0.6467276328526115)],\n",
       "  []],\n",
       " [[(0.08077819184968146, 0.9192218081503185)], []]]"
      ]
     },
     "execution_count": 4,
     "metadata": {},
     "output_type": "execute_result"
    }
   ],
   "source": [
    "npht_E = calculate_discrete_NPHT_2d(E, 4)\n",
    "npht_E"
   ]
  },
  {
   "cell_type": "markdown",
   "metadata": {},
   "source": [
    "Lets take a closer look at `npht_E[2]` which the filtration in direction `(-1, 0)` ..."
   ]
  },
  {
   "cell_type": "code",
   "execution_count": 5,
   "metadata": {},
   "outputs": [
    {
     "data": {
      "text/plain": [
       "[[(0.22750582470229294, 0.6467276328526115),\n",
       "  (0.4371167287774523, 0.6467276328526115),\n",
       "  (0.22750582470229294, 0.6467276328526115)],\n",
       " []]"
      ]
     },
     "execution_count": 5,
     "metadata": {},
     "output_type": "execute_result"
    }
   ],
   "source": [
    "npht_E[2]"
   ]
  },
  {
   "cell_type": "markdown",
   "metadata": {},
   "source": [
    "We nicely see the expected 3 bar codes in the dimension zero (`npht_E[2][0]`). As you might notice there is no \n",
    "essential barcode (i.e. with infinite life span). The reason is that `calculate_discrete_NPHT_2d` implicitly maps \n",
    "essential classes to the maximum of the filtration value. This makes sense as we get some additional information about the binary complex's size."
   ]
  },
  {
   "cell_type": "markdown",
   "metadata": {},
   "source": [
    "Now the same procedur for a P ..."
   ]
  },
  {
   "cell_type": "code",
   "execution_count": 6,
   "metadata": {},
   "outputs": [
    {
     "data": {
      "image/png": "[encoded data removed]",
      "text/plain": [
       "<Figure size 144x144 with 1 Axes>"
      ]
     },
     "metadata": {
      "needs_background": "light"
     },
     "output_type": "display_data"
    }
   ],
   "source": [
    "P = binary_P()\n",
    "plt.figure(figsize=(2, 2))\n",
    "ax = plt.gca()\n",
    "plot_binary_complex(ax, P)\n",
    "plt.show()"
   ]
  },
  {
   "cell_type": "code",
   "execution_count": 9,
   "metadata": {},
   "outputs": [
    {
     "data": {
      "text/plain": [
       "[[[(0.3476121364481081, 0.7285817953278377)],\n",
       "  [(0.7285817953278377, 0.7285817953278377)]],\n",
       " [[(0.023787926400337948, 0.7857272441597971)],\n",
       "  [(0.7857272441597971, 0.7857272441597971)]],\n",
       " [[(0.2714182046721622, 0.6523878635518919)],\n",
       "  [(0.6523878635518919, 0.6523878635518919)]],\n",
       " [[(0.21427275584020278, 0.976212073599662)],\n",
       "  [(0.5952424147199324, 0.976212073599662)]]]"
      ]
     },
     "execution_count": 9,
     "metadata": {},
     "output_type": "execute_result"
    }
   ],
   "source": [
    "npht_P = calculate_discrete_NPHT_2d(P, 4)\n",
    "npht_P"
   ]
  },
  {
   "cell_type": "markdown",
   "metadata": {},
   "source": [
    "As we see, this time we also get a nontrivial 1-class, a circle. "
   ]
  },
  {
   "cell_type": "markdown",
   "metadata": {},
   "source": [
    "Now let's invoke `distance_npht2D` to calculate the distance of P and E. "
   ]
  },
  {
   "cell_type": "code",
   "execution_count": 10,
   "metadata": {},
   "outputs": [
    {
     "data": {
      "text/plain": [
       "1.3793571276155214"
      ]
     },
     "execution_count": 10,
     "metadata": {},
     "output_type": "execute_result"
    }
   ],
   "source": [
    "distance_npht2D(npht_P, npht_E)"
   ]
  }
 ],
 "metadata": {
  "kernelspec": {
   "display_name": "Python 3",
   "language": "python",
   "name": "python3"
  },
  "language_info": {
   "codemirror_mode": {
    "name": "ipython",
    "version": 3
   },
   "file_extension": ".py",
   "mimetype": "text/x-python",
   "name": "python",
   "nbconvert_exporter": "python",
   "pygments_lexer": "ipython3",
   "version": "3.7.4"
  }
 },
 "nbformat": 4,
 "nbformat_minor": 2
}
