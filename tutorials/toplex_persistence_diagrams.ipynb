{
 "cells": [
  {
   "cell_type": "code",
   "execution_count": 1,
   "metadata": {},
   "outputs": [],
   "source": [
    "import os\n",
    "import sys\n",
    "\n",
    "sys.path.insert(0,os.path.join(os.path.abspath(sys.path[0]),'..'))\n",
    "    \n",
    "from shared_code import check_pershombox_availability\n",
    "\n",
    "check_pershombox_availability\n",
    "\n",
    "from pershombox import toplex_persistence_diagrams"
   ]
  },
  {
   "cell_type": "markdown",
   "metadata": {},
   "source": [
    "The idea is very simple: \n",
    "`toplex_persistence_diagrams` receives a list of the toplices that define your simplicial complex as well as the corresponding filtration values. \n",
    "\n",
    "You get a list of the persistence diagrams, ordered by dimensionality  (without diagonal of course).\n",
    "\n",
    "Lets get started by building our filtrated complex ... "
   ]
  },
  {
   "cell_type": "code",
   "execution_count": 2,
   "metadata": {},
   "outputs": [],
   "source": [
    "toplex = [(1,), (2,), (1,2), (2,3), (3,1), (1,2,3)]\n",
    "filtration = [0, 1, 2, 3, 3, 4]"
   ]
  },
  {
   "cell_type": "markdown",
   "metadata": {},
   "source": [
    "A few words to the notation: \n",
    "\n",
    "1. `toplex` is a list of simplices. In order to get a simplicial complex, missing faces are added automatically by \n",
    "`Perseus` using the filtration value of the parent simplex (hence, the name toplex). \n",
    "2. The basic building blocks are vertices which get an `int` id. Hence, the vertex (= 0-simplex) `(1,)` is a face of the 1-simplex `(1,2)`. \n",
    "3. `filtration` lists the filtration values of the simplices in order of occurrence in `toplex`. "
   ]
  },
  {
   "cell_type": "markdown",
   "metadata": {},
   "source": [
    "Now we can calculate `toplex`'s persistent homology ... "
   ]
  },
  {
   "cell_type": "code",
   "execution_count": 3,
   "metadata": {},
   "outputs": [
    {
     "data": {
      "text/plain": [
       "[[[1, 2], [0, inf]], [[3, 4]], []]"
      ]
     },
     "execution_count": 3,
     "metadata": {},
     "output_type": "execute_result"
    }
   ],
   "source": [
    "barcodes = toplex_persistence_diagrams(toplex, filtration)\n",
    "barcodes"
   ]
  },
  {
   "cell_type": "markdown",
   "metadata": {},
   "source": [
    "Lets examine the output ... "
   ]
  },
  {
   "cell_type": "code",
   "execution_count": 4,
   "metadata": {},
   "outputs": [
    {
     "data": {
      "text/plain": [
       "[[1, 2], [0, inf]]"
      ]
     },
     "execution_count": 4,
     "metadata": {},
     "output_type": "execute_result"
    }
   ],
   "source": [
    "barcodes[0]"
   ]
  },
  {
   "cell_type": "markdown",
   "metadata": {},
   "source": [
    "* `[1, 2]`: the connected component which gets born as we add `(2,)` at filtration point `1` and which dies as we add `(1,2)` at filtration point `2`. \n",
    "* `[0, inf]`: the essential connected component of our complex, trivially it gets born as we add the first simplex."
   ]
  },
  {
   "cell_type": "code",
   "execution_count": 5,
   "metadata": {},
   "outputs": [
    {
     "data": {
      "text/plain": [
       "[[3, 4]]"
      ]
     },
     "execution_count": 5,
     "metadata": {},
     "output_type": "execute_result"
    }
   ],
   "source": [
    "barcodes[1]"
   ]
  },
  {
   "cell_type": "markdown",
   "metadata": {},
   "source": [
    "* `[3, 4]`: the circle which is born as we add `(2,3)` and `(3,1)` at filtration value `3`."
   ]
  },
  {
   "cell_type": "code",
   "execution_count": 6,
   "metadata": {},
   "outputs": [
    {
     "data": {
      "text/plain": [
       "[]"
      ]
     },
     "execution_count": 6,
     "metadata": {},
     "output_type": "execute_result"
    }
   ],
   "source": [
    "barcodes[2]"
   ]
  },
  {
   "cell_type": "markdown",
   "metadata": {},
   "source": [
    "It is empty as there is no non-trivial 2-dimensional feature. "
   ]
  }
 ],
 "metadata": {
  "kernelspec": {
   "display_name": "Python 3",
   "language": "python",
   "name": "python3"
  },
  "language_info": {
   "codemirror_mode": {
    "name": "ipython",
    "version": 3
   },
   "file_extension": ".py",
   "mimetype": "text/x-python",
   "name": "python",
   "nbconvert_exporter": "python",
   "pygments_lexer": "ipython3",
   "version": "3.7.4"
  }
 },
 "nbformat": 4,
 "nbformat_minor": 2
}
